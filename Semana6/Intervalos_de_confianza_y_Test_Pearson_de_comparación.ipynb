{
  "nbformat": 4,
  "nbformat_minor": 0,
  "metadata": {
    "colab": {
      "name": "Intervalos de confianza y Test Pearson de comparación.ipynb",
      "provenance": [],
      "collapsed_sections": [],
      "authorship_tag": "ABX9TyO7huor4tfcYadDe1BNrisF",
      "include_colab_link": true
    },
    "kernelspec": {
      "name": "python3",
      "display_name": "Python 3"
    }
  },
  "cells": [
    {
      "cell_type": "markdown",
      "metadata": {
        "id": "view-in-github",
        "colab_type": "text"
      },
      "source": [
        "<a href=\"https://colab.research.google.com/github/AnIsAsPe/ElementosEstadisticaMachineLearningPython/blob/master/Semana6/Intervalos_de_confianza_y_Test_Pearson_de_comparaci%C3%B3n.ipynb\" target=\"_parent\"><img src=\"https://colab.research.google.com/assets/colab-badge.svg\" alt=\"Open In Colab\"/></a>"
      ]
    },
    {
      "cell_type": "markdown",
      "metadata": {
        "id": "c2XM_upk987e"
      },
      "source": [
        "# Cargar bibliotecas y funciones \n"
      ]
    },
    {
      "cell_type": "markdown",
      "metadata": {
        "id": "8-2io6qfdvhP"
      },
      "source": [
        "##Bibliotecas"
      ]
    },
    {
      "cell_type": "code",
      "metadata": {
        "id": "hqT8wVN6-CBk"
      },
      "source": [
        "import numpy as np\n",
        "import pandas as pd\n",
        "import math\n",
        "from scipy import stats\n",
        "from matplotlib import pyplot as plt\n",
        "import seaborn as sns"
      ],
      "execution_count": 1,
      "outputs": []
    },
    {
      "cell_type": "markdown",
      "metadata": {
        "id": "-qplPlUhd00Z"
      },
      "source": [
        "## intervalo_confianza_bernoulli()"
      ]
    },
    {
      "cell_type": "code",
      "metadata": {
        "id": "mWbmbJWt_DEy"
      },
      "source": [
        "def intervalo_confianza_bernoulli(tam_muestra, p_muestra , nivel_confianza):\n",
        "  '''p es la probabilidad obtenida en la muestra\n",
        "     nivel de confianza debe estar entre 0 y 1'''\n",
        "  izq = (1 - nivel_confianza)/2\n",
        "  z_score = - stats.norm.ppf(izq)\n",
        "  margen_error = z_score/(2*math.sqrt(tam_muestra))\n",
        "  v_inf = p_muestra - margen_error\n",
        "  v_sup = p_muestra + margen_error\n",
        "  print('Con probabilidad de 95% P_poblacion está en el intervalo:',\n",
        "      round(v_inf,4), round(v_sup,4))\n",
        "  return margen_error"
      ],
      "execution_count": 2,
      "outputs": []
    },
    {
      "cell_type": "markdown",
      "metadata": {
        "id": "SQOKqo47eAHr"
      },
      "source": [
        "## test_chi_cuadrada()"
      ]
    },
    {
      "cell_type": "code",
      "metadata": {
        "id": "6HlSlOYSXYsC"
      },
      "source": [
        "def test_chi_cuadrada(observados,esperados):\n",
        "    \"\"\"Prueba de chi cuadrada para 12 grados de libertad (P-val=0.05).\"\"\"\n",
        "    chi2 = 0  \n",
        "    for observado, esperado in zip(observados,esperados):\n",
        "        chi_cuadrada = math.pow(observado - esperado, 2)\n",
        "        chi2 += chi_cuadrada / esperado\n",
        "\n",
        "    print(\"\\nTest Chi-squared  estdístico = {:.3f}\".format(chi2))\n",
        "    print(\"Valor crítico P-value para 0.05 de significancia is 21.03.\")    \n",
        "    return chi2 <= 21.03"
      ],
      "execution_count": 3,
      "outputs": []
    },
    {
      "cell_type": "markdown",
      "metadata": {
        "id": "vU_S-WRWD8GA"
      },
      "source": [
        "# Intervalos de confianza para una Ley  Bernoulli\n",
        "\n",
        "¿De qué tamaño tiene que ser mi muestra?\n",
        " 1. Que nivel de confianza quieres tener\n",
        " 2. Qué tan preciso quieres que sea tu estimador\n"
      ]
    },
    {
      "cell_type": "markdown",
      "metadata": {
        "id": "eQ6-Cd9x0oEh"
      },
      "source": [
        "**Cálculo del error**\n",
        "\n",
        "$\\epsilon \\leq \\cfrac{z_{score}}{2\\sqrt{n}}$\n",
        "\n",
        "Para un nivel de confianza de 95%\n",
        "\n",
        "$ \\epsilon \\leq \\cfrac{1.96}{2\\sqrt{n}}\\leq \\cfrac{1}{\\sqrt{n}}$"
      ]
    },
    {
      "cell_type": "code",
      "metadata": {
        "id": "Z48lxu1w4nPi",
        "colab": {
          "base_uri": "https://localhost:8080/"
        },
        "outputId": "53d7713e-5b61-4cca-caf6-73cb4ef275e3"
      },
      "source": [
        "n =400\n",
        "p_muestra = 0.5\n",
        "margen_error = 1/math.sqrt(n)\n",
        "v_inf = p_muestra - margen_error\n",
        "v_sup = p_muestra + margen_error\n",
        "\n",
        "print('Probabilidad de 95%  que P está en el intervalo:',\n",
        "      round(v_inf,4), round(v_sup,4))"
      ],
      "execution_count": 4,
      "outputs": [
        {
          "output_type": "stream",
          "text": [
            "Probabilidad de 95%  que P está en el intervalo: 0.45 0.55\n"
          ],
          "name": "stdout"
        }
      ]
    },
    {
      "cell_type": "markdown",
      "metadata": {
        "id": "5Lvnw0q5E38Z"
      },
      "source": [
        "## Ejemplo 1 "
      ]
    },
    {
      "cell_type": "code",
      "metadata": {
        "id": "yS50k5AHDmTC",
        "colab": {
          "base_uri": "https://localhost:8080/"
        },
        "outputId": "680257ce-9486-49c8-ef8d-944901fd51e3"
      },
      "source": [
        "#Obtener una muestra de n numeros con distribución bernouli\n",
        "\n",
        "P_poblacion = 0.3  \n",
        "tam_muestra=100\n",
        "muestra = stats.bernoulli.rvs(size = tam_muestra, p = P_poblacion)\n",
        "p_muestra = muestra.sum()/len(muestra)\n",
        "\n",
        "print('Elementos de la muestra son: \\n{}\\n\\np_muestra: {}'.format(muestra, \n",
        "                                                          p_muestra))"
      ],
      "execution_count": 5,
      "outputs": [
        {
          "output_type": "stream",
          "text": [
            "Elementos de la muestra son: \n",
            "[0 0 1 1 1 1 0 1 1 0 0 0 0 0 1 0 0 1 0 1 1 0 0 0 0 0 0 1 0 0 1 0 0 0 0 0 0\n",
            " 0 1 0 0 1 0 0 0 0 0 0 0 1 0 0 0 1 0 0 0 1 0 0 0 0 0 0 0 0 0 1 1 0 0 0 0 0\n",
            " 1 0 1 1 0 1 1 1 0 0 0 0 0 0 0 0 0 0 0 0 0 0 1 1 0 0]\n",
            "\n",
            "p_muestra: 0.27\n"
          ],
          "name": "stdout"
        }
      ]
    },
    {
      "cell_type": "code",
      "metadata": {
        "id": "S9iVq_IQA_FV",
        "colab": {
          "base_uri": "https://localhost:8080/"
        },
        "outputId": "43c7e493-061d-42e4-f165-1963c8a0cb84"
      },
      "source": [
        "a = intervalo_confianza_bernoulli(tam_muestra, p_muestra, nivel_confianza=.95)"
      ],
      "execution_count": 6,
      "outputs": [
        {
          "output_type": "stream",
          "text": [
            "Con probabilidad de 95% P_poblacion está en el intervalo: 0.172 0.368\n"
          ],
          "name": "stdout"
        }
      ]
    },
    {
      "cell_type": "markdown",
      "metadata": {
        "id": "tcw7PjS098ox"
      },
      "source": [
        "## Ejemplo 2"
      ]
    },
    {
      "cell_type": "markdown",
      "metadata": {
        "id": "bteSvpU9n0lW"
      },
      "source": [
        "Construir el intervalo de confianza de que a una persona que solicita un crédito, éste le sea otorgado.\n",
        "\n",
        "Para ello, suponer que es una muestra sana (iid)"
      ]
    },
    {
      "cell_type": "code",
      "metadata": {
        "id": "ZGY4NzYXlS1I",
        "colab": {
          "base_uri": "https://localhost:8080/",
          "height": 216
        },
        "outputId": "e87429fa-f45c-429f-a164-fd2ab145d538"
      },
      "source": [
        "df = pd.read_csv('https://raw.githubusercontent.com/AnIsAsPe/ElementosEstadisticaMachineLearningPython/master/Semana1/loan_prediction.csv')\n",
        "print(df.shape)\n",
        "df.head()"
      ],
      "execution_count": 7,
      "outputs": [
        {
          "output_type": "stream",
          "text": [
            "(614, 13)\n"
          ],
          "name": "stdout"
        },
        {
          "output_type": "execute_result",
          "data": {
            "text/html": [
              "<div>\n",
              "<style scoped>\n",
              "    .dataframe tbody tr th:only-of-type {\n",
              "        vertical-align: middle;\n",
              "    }\n",
              "\n",
              "    .dataframe tbody tr th {\n",
              "        vertical-align: top;\n",
              "    }\n",
              "\n",
              "    .dataframe thead th {\n",
              "        text-align: right;\n",
              "    }\n",
              "</style>\n",
              "<table border=\"1\" class=\"dataframe\">\n",
              "  <thead>\n",
              "    <tr style=\"text-align: right;\">\n",
              "      <th></th>\n",
              "      <th>Loan_ID</th>\n",
              "      <th>Gender</th>\n",
              "      <th>Married</th>\n",
              "      <th>Dependents</th>\n",
              "      <th>Education</th>\n",
              "      <th>Self_Employed</th>\n",
              "      <th>ApplicantIncome</th>\n",
              "      <th>CoapplicantIncome</th>\n",
              "      <th>LoanAmount</th>\n",
              "      <th>Loan_Amount_Term</th>\n",
              "      <th>Credit_History</th>\n",
              "      <th>Property_Area</th>\n",
              "      <th>Loan_Status</th>\n",
              "    </tr>\n",
              "  </thead>\n",
              "  <tbody>\n",
              "    <tr>\n",
              "      <th>0</th>\n",
              "      <td>LP001002</td>\n",
              "      <td>Male</td>\n",
              "      <td>No</td>\n",
              "      <td>0</td>\n",
              "      <td>Graduate</td>\n",
              "      <td>No</td>\n",
              "      <td>5849</td>\n",
              "      <td>0.0</td>\n",
              "      <td>NaN</td>\n",
              "      <td>360.0</td>\n",
              "      <td>1.0</td>\n",
              "      <td>Urban</td>\n",
              "      <td>Y</td>\n",
              "    </tr>\n",
              "    <tr>\n",
              "      <th>1</th>\n",
              "      <td>LP001003</td>\n",
              "      <td>Male</td>\n",
              "      <td>Yes</td>\n",
              "      <td>1</td>\n",
              "      <td>Graduate</td>\n",
              "      <td>No</td>\n",
              "      <td>4583</td>\n",
              "      <td>1508.0</td>\n",
              "      <td>128.0</td>\n",
              "      <td>360.0</td>\n",
              "      <td>1.0</td>\n",
              "      <td>Rural</td>\n",
              "      <td>N</td>\n",
              "    </tr>\n",
              "    <tr>\n",
              "      <th>2</th>\n",
              "      <td>LP001005</td>\n",
              "      <td>Male</td>\n",
              "      <td>Yes</td>\n",
              "      <td>0</td>\n",
              "      <td>Graduate</td>\n",
              "      <td>Yes</td>\n",
              "      <td>3000</td>\n",
              "      <td>0.0</td>\n",
              "      <td>66.0</td>\n",
              "      <td>360.0</td>\n",
              "      <td>1.0</td>\n",
              "      <td>Urban</td>\n",
              "      <td>Y</td>\n",
              "    </tr>\n",
              "    <tr>\n",
              "      <th>3</th>\n",
              "      <td>LP001006</td>\n",
              "      <td>Male</td>\n",
              "      <td>Yes</td>\n",
              "      <td>0</td>\n",
              "      <td>Not Graduate</td>\n",
              "      <td>No</td>\n",
              "      <td>2583</td>\n",
              "      <td>2358.0</td>\n",
              "      <td>120.0</td>\n",
              "      <td>360.0</td>\n",
              "      <td>1.0</td>\n",
              "      <td>Urban</td>\n",
              "      <td>Y</td>\n",
              "    </tr>\n",
              "    <tr>\n",
              "      <th>4</th>\n",
              "      <td>LP001008</td>\n",
              "      <td>Male</td>\n",
              "      <td>No</td>\n",
              "      <td>0</td>\n",
              "      <td>Graduate</td>\n",
              "      <td>No</td>\n",
              "      <td>6000</td>\n",
              "      <td>0.0</td>\n",
              "      <td>141.0</td>\n",
              "      <td>360.0</td>\n",
              "      <td>1.0</td>\n",
              "      <td>Urban</td>\n",
              "      <td>Y</td>\n",
              "    </tr>\n",
              "  </tbody>\n",
              "</table>\n",
              "</div>"
            ],
            "text/plain": [
              "    Loan_ID Gender Married  ... Credit_History Property_Area Loan_Status\n",
              "0  LP001002   Male      No  ...            1.0         Urban           Y\n",
              "1  LP001003   Male     Yes  ...            1.0         Rural           N\n",
              "2  LP001005   Male     Yes  ...            1.0         Urban           Y\n",
              "3  LP001006   Male     Yes  ...            1.0         Urban           Y\n",
              "4  LP001008   Male      No  ...            1.0         Urban           Y\n",
              "\n",
              "[5 rows x 13 columns]"
            ]
          },
          "metadata": {
            "tags": []
          },
          "execution_count": 7
        }
      ]
    },
    {
      "cell_type": "code",
      "metadata": {
        "id": "SexmOpUVtEkL",
        "colab": {
          "base_uri": "https://localhost:8080/"
        },
        "outputId": "f967e276-4b04-4507-e39c-2078231ad55e"
      },
      "source": [
        "df['Loan_Status'].value_counts()"
      ],
      "execution_count": 8,
      "outputs": [
        {
          "output_type": "execute_result",
          "data": {
            "text/plain": [
              "Y    422\n",
              "N    192\n",
              "Name: Loan_Status, dtype: int64"
            ]
          },
          "metadata": {
            "tags": []
          },
          "execution_count": 8
        }
      ]
    },
    {
      "cell_type": "code",
      "metadata": {
        "id": "R7DZH8kLspaX",
        "colab": {
          "base_uri": "https://localhost:8080/"
        },
        "outputId": "011b54ae-9315-4e32-d503-278bc8c17034"
      },
      "source": [
        "n = 422 + 192\n",
        "p = 422/n\n",
        "\n",
        "print ('n = {}, \\np = {}'.format(n, p))"
      ],
      "execution_count": 9,
      "outputs": [
        {
          "output_type": "stream",
          "text": [
            "n = 614, \n",
            "p = 0.6872964169381107\n"
          ],
          "name": "stdout"
        }
      ]
    },
    {
      "cell_type": "code",
      "metadata": {
        "id": "eo_lRQ-WHC-b",
        "colab": {
          "base_uri": "https://localhost:8080/"
        },
        "outputId": "6622b88a-db62-4e36-ff04-b887a6b4997b"
      },
      "source": [
        "a = intervalo_confianza_bernoulli(tam_muestra=n, p_muestra=p, nivel_confianza=.95)"
      ],
      "execution_count": 10,
      "outputs": [
        {
          "output_type": "stream",
          "text": [
            "Con probabilidad de 95% P_poblacion está en el intervalo: 0.6477 0.7268\n"
          ],
          "name": "stdout"
        }
      ]
    },
    {
      "cell_type": "markdown",
      "metadata": {
        "id": "DPk4Puddkrya"
      },
      "source": [
        "# Test de pearson de comparación"
      ]
    },
    {
      "cell_type": "markdown",
      "metadata": {
        "id": "57bNo4VSJzCc"
      },
      "source": [
        "## Distribución Chi Cuadrada"
      ]
    },
    {
      "cell_type": "code",
      "metadata": {
        "id": "ojZblQ_F-Lec"
      },
      "source": [
        "def grafica_chi_cuadrada(a, b, c, d):\n",
        "  x = np.linspace(0, 10, 100)\n",
        "  fig,ax = plt.subplots(1,1)\n",
        "  linestyles = [':', '--', '-.', '-']\n",
        "  grados_libertad = [a, b, c, d]\n",
        "  for df, ls in zip(grados_libertad, linestyles):\n",
        "    ax.plot(x, stats.chi2.pdf(x, df),  linestyle=ls)\n",
        "\n",
        "  plt.xlim(0, 10)\n",
        "  plt.ylim(0, 0.4)\n",
        "\n",
        "  plt.xlabel('valores')\n",
        "  plt.ylabel('frecuencia')\n",
        "  plt.title('Distribución Chi cuadrada')\n",
        "\n",
        "  plt.legend(grados_libertad )\n",
        "  plt.show()"
      ],
      "execution_count": null,
      "outputs": []
    },
    {
      "cell_type": "code",
      "metadata": {
        "id": "BTqptucEJCBn",
        "colab": {
          "base_uri": "https://localhost:8080/",
          "height": 295
        },
        "outputId": "7492deda-8dc7-42fa-9eb2-d2c4fccb24b2"
      },
      "source": [
        "grafica_chi_cuadrada(1, 3, 6, 9)"
      ],
      "execution_count": null,
      "outputs": [
        {
          "output_type": "display_data",
          "data": {
            "image/png": "[encoded data removed]",
            "text/plain": [
              "<Figure size 432x288 with 1 Axes>"
            ]
          },
          "metadata": {
            "tags": [],
            "needs_background": "light"
          }
        }
      ]
    },
    {
      "cell_type": "code",
      "metadata": {
        "id": "a4GrqKuEJPqt",
        "colab": {
          "base_uri": "https://localhost:8080/",
          "height": 295
        },
        "outputId": "1d2e9693-adb1-4046-f633-1392f9f7dc0d"
      },
      "source": [
        "grafica_chi_cuadrada(5, 7, 10, 13)"
      ],
      "execution_count": null,
      "outputs": [
        {
          "output_type": "display_data",
          "data": {
            "image/png": "[encoded data removed]",
            "text/plain": [
              "<Figure size 432x288 with 1 Axes>"
            ]
          },
          "metadata": {
            "tags": [],
            "needs_background": "light"
          }
        }
      ]
    },
    {
      "cell_type": "code",
      "metadata": {
        "id": "qTDzFXOyK58U",
        "colab": {
          "base_uri": "https://localhost:8080/",
          "height": 283
        },
        "outputId": "b93b3066-83da-4aac-8505-4627b4c5b385"
      },
      "source": [
        "X1 = np.random.normal(0, 1, 10000)\n",
        "X2 = np.random.normal(0, 1, 10000)\n",
        "X3 = np.random.normal(0, 1, 10000)\n",
        "sns.kdeplot(x=X1**2)\n",
        "sns.kdeplot(x=(X1**2)+(X3**2)+(X3**2))"
      ],
      "execution_count": null,
      "outputs": [
        {
          "output_type": "execute_result",
          "data": {
            "text/plain": [
              "<matplotlib.axes._subplots.AxesSubplot at 0x7fda0ce04320>"
            ]
          },
          "metadata": {
            "tags": []
          },
          "execution_count": 14
        },
        {
          "output_type": "display_data",
          "data": {
            "image/png": "[encoded data removed]",
            "text/plain": [
              "<Figure size 432x288 with 1 Axes>"
            ]
          },
          "metadata": {
            "tags": [],
            "needs_background": "light"
          }
        }
      ]
    },
    {
      "cell_type": "markdown",
      "metadata": {
        "id": "P-Aft6kpNS6P"
      },
      "source": [
        "## Ejemplo:\n",
        "\n",
        "Geisser realizó un estudio en 1889 de la distribución de hijos e hijas en las familias en Saxony con 12 hijos.\n",
        "Se deseaba probar que la probabilidad de tener un hijo varon  es de 0.52\n"
      ]
    },
    {
      "cell_type": "code",
      "metadata": {
        "id": "U_lEyNGtNR5q",
        "colab": {
          "base_uri": "https://localhost:8080/",
          "height": 438
        },
        "outputId": "8361fc8e-018e-40da-d322-107f2497d0f7"
      },
      "source": [
        "datos = pd.read_csv('https://www.stat.berkeley.edu/~rice/Stat135/geissler.txt')\n",
        "datos.columns=['hijos_h','frec_observada']\n",
        "datos"
      ],
      "execution_count": null,
      "outputs": [
        {
          "output_type": "execute_result",
          "data": {
            "text/html": [
              "<div>\n",
              "<style scoped>\n",
              "    .dataframe tbody tr th:only-of-type {\n",
              "        vertical-align: middle;\n",
              "    }\n",
              "\n",
              "    .dataframe tbody tr th {\n",
              "        vertical-align: top;\n",
              "    }\n",
              "\n",
              "    .dataframe thead th {\n",
              "        text-align: right;\n",
              "    }\n",
              "</style>\n",
              "<table border=\"1\" class=\"dataframe\">\n",
              "  <thead>\n",
              "    <tr style=\"text-align: right;\">\n",
              "      <th></th>\n",
              "      <th>hijos_h</th>\n",
              "      <th>frec_observada</th>\n",
              "    </tr>\n",
              "  </thead>\n",
              "  <tbody>\n",
              "    <tr>\n",
              "      <th>0</th>\n",
              "      <td>0</td>\n",
              "      <td>7</td>\n",
              "    </tr>\n",
              "    <tr>\n",
              "      <th>1</th>\n",
              "      <td>1</td>\n",
              "      <td>45</td>\n",
              "    </tr>\n",
              "    <tr>\n",
              "      <th>2</th>\n",
              "      <td>2</td>\n",
              "      <td>181</td>\n",
              "    </tr>\n",
              "    <tr>\n",
              "      <th>3</th>\n",
              "      <td>3</td>\n",
              "      <td>478</td>\n",
              "    </tr>\n",
              "    <tr>\n",
              "      <th>4</th>\n",
              "      <td>4</td>\n",
              "      <td>829</td>\n",
              "    </tr>\n",
              "    <tr>\n",
              "      <th>5</th>\n",
              "      <td>5</td>\n",
              "      <td>1112</td>\n",
              "    </tr>\n",
              "    <tr>\n",
              "      <th>6</th>\n",
              "      <td>6</td>\n",
              "      <td>1343</td>\n",
              "    </tr>\n",
              "    <tr>\n",
              "      <th>7</th>\n",
              "      <td>7</td>\n",
              "      <td>1033</td>\n",
              "    </tr>\n",
              "    <tr>\n",
              "      <th>8</th>\n",
              "      <td>8</td>\n",
              "      <td>670</td>\n",
              "    </tr>\n",
              "    <tr>\n",
              "      <th>9</th>\n",
              "      <td>9</td>\n",
              "      <td>286</td>\n",
              "    </tr>\n",
              "    <tr>\n",
              "      <th>10</th>\n",
              "      <td>10</td>\n",
              "      <td>104</td>\n",
              "    </tr>\n",
              "    <tr>\n",
              "      <th>11</th>\n",
              "      <td>11</td>\n",
              "      <td>24</td>\n",
              "    </tr>\n",
              "    <tr>\n",
              "      <th>12</th>\n",
              "      <td>12</td>\n",
              "      <td>3</td>\n",
              "    </tr>\n",
              "  </tbody>\n",
              "</table>\n",
              "</div>"
            ],
            "text/plain": [
              "    hijos_h  frec_observada\n",
              "0         0               7\n",
              "1         1              45\n",
              "2         2             181\n",
              "3         3             478\n",
              "4         4             829\n",
              "5         5            1112\n",
              "6         6            1343\n",
              "7         7            1033\n",
              "8         8             670\n",
              "9         9             286\n",
              "10       10             104\n",
              "11       11              24\n",
              "12       12               3"
            ]
          },
          "metadata": {
            "tags": []
          },
          "execution_count": 15
        }
      ]
    },
    {
      "cell_type": "code",
      "metadata": {
        "id": "BbVYkiWlOf8Z",
        "colab": {
          "base_uri": "https://localhost:8080/"
        },
        "outputId": "7e0f31d9-e907-4c9c-d4a9-2483fe72fb7e"
      },
      "source": [
        "n = datos.frec_observada.sum()\n",
        "n"
      ],
      "execution_count": null,
      "outputs": [
        {
          "output_type": "execute_result",
          "data": {
            "text/plain": [
              "6115"
            ]
          },
          "metadata": {
            "tags": []
          },
          "execution_count": 17
        }
      ]
    },
    {
      "cell_type": "markdown",
      "metadata": {
        "id": "wqxGeuTzVQ2B"
      },
      "source": [
        "# Prueba de Hipótesis"
      ]
    },
    {
      "cell_type": "markdown",
      "metadata": {
        "id": "PU0vfciwQoDo"
      },
      "source": [
        "\n",
        "Hipotesis nula:\n",
        "- la Ley de Probabilidad sigue una distribución Binomial (12, 0.52) \n",
        "(número de éxitos r en n eventos independientes sucesivos)\n",
        "\n",
        "Hipotesis alternativa:\n",
        "- La Ley de Probabilidad es cualquier otra"
      ]
    },
    {
      "cell_type": "code",
      "metadata": {
        "id": "myLe_mkvSq3y",
        "colab": {
          "base_uri": "https://localhost:8080/",
          "height": 438
        },
        "outputId": "0d0c60bf-cb40-4864-ac49-cc193ba38121"
      },
      "source": [
        "## Valores esperados de la hipotesis nula\n",
        "frec_esperada=[]\n",
        "for r in range(0,13):\n",
        "  f_e= stats.binom.pmf(r, 12, .52) * n\n",
        "  frec_esperada.append(int(round(f_e,0)))\n",
        "\n",
        "datos['frec_esperada']=pd.Series(frec_esperada)\n",
        "datos"
      ],
      "execution_count": null,
      "outputs": [
        {
          "output_type": "execute_result",
          "data": {
            "text/html": [
              "<div>\n",
              "<style scoped>\n",
              "    .dataframe tbody tr th:only-of-type {\n",
              "        vertical-align: middle;\n",
              "    }\n",
              "\n",
              "    .dataframe tbody tr th {\n",
              "        vertical-align: top;\n",
              "    }\n",
              "\n",
              "    .dataframe thead th {\n",
              "        text-align: right;\n",
              "    }\n",
              "</style>\n",
              "<table border=\"1\" class=\"dataframe\">\n",
              "  <thead>\n",
              "    <tr style=\"text-align: right;\">\n",
              "      <th></th>\n",
              "      <th>hijos_h</th>\n",
              "      <th>frec_observada</th>\n",
              "      <th>frec_esperada</th>\n",
              "    </tr>\n",
              "  </thead>\n",
              "  <tbody>\n",
              "    <tr>\n",
              "      <th>0</th>\n",
              "      <td>0</td>\n",
              "      <td>7</td>\n",
              "      <td>1</td>\n",
              "    </tr>\n",
              "    <tr>\n",
              "      <th>1</th>\n",
              "      <td>1</td>\n",
              "      <td>45</td>\n",
              "      <td>12</td>\n",
              "    </tr>\n",
              "    <tr>\n",
              "      <th>2</th>\n",
              "      <td>2</td>\n",
              "      <td>181</td>\n",
              "      <td>71</td>\n",
              "    </tr>\n",
              "    <tr>\n",
              "      <th>3</th>\n",
              "      <td>3</td>\n",
              "      <td>478</td>\n",
              "      <td>256</td>\n",
              "    </tr>\n",
              "    <tr>\n",
              "      <th>4</th>\n",
              "      <td>4</td>\n",
              "      <td>829</td>\n",
              "      <td>624</td>\n",
              "    </tr>\n",
              "    <tr>\n",
              "      <th>5</th>\n",
              "      <td>5</td>\n",
              "      <td>1112</td>\n",
              "      <td>1081</td>\n",
              "    </tr>\n",
              "    <tr>\n",
              "      <th>6</th>\n",
              "      <td>6</td>\n",
              "      <td>1343</td>\n",
              "      <td>1366</td>\n",
              "    </tr>\n",
              "    <tr>\n",
              "      <th>7</th>\n",
              "      <td>7</td>\n",
              "      <td>1033</td>\n",
              "      <td>1269</td>\n",
              "    </tr>\n",
              "    <tr>\n",
              "      <th>8</th>\n",
              "      <td>8</td>\n",
              "      <td>670</td>\n",
              "      <td>859</td>\n",
              "    </tr>\n",
              "    <tr>\n",
              "      <th>9</th>\n",
              "      <td>9</td>\n",
              "      <td>286</td>\n",
              "      <td>414</td>\n",
              "    </tr>\n",
              "    <tr>\n",
              "      <th>10</th>\n",
              "      <td>10</td>\n",
              "      <td>104</td>\n",
              "      <td>134</td>\n",
              "    </tr>\n",
              "    <tr>\n",
              "      <th>11</th>\n",
              "      <td>11</td>\n",
              "      <td>24</td>\n",
              "      <td>26</td>\n",
              "    </tr>\n",
              "    <tr>\n",
              "      <th>12</th>\n",
              "      <td>12</td>\n",
              "      <td>3</td>\n",
              "      <td>2</td>\n",
              "    </tr>\n",
              "  </tbody>\n",
              "</table>\n",
              "</div>"
            ],
            "text/plain": [
              "    hijos_h  frec_observada  frec_esperada\n",
              "0         0               7              1\n",
              "1         1              45             12\n",
              "2         2             181             71\n",
              "3         3             478            256\n",
              "4         4             829            624\n",
              "5         5            1112           1081\n",
              "6         6            1343           1366\n",
              "7         7            1033           1269\n",
              "8         8             670            859\n",
              "9         9             286            414\n",
              "10       10             104            134\n",
              "11       11              24             26\n",
              "12       12               3              2"
            ]
          },
          "metadata": {
            "tags": []
          },
          "execution_count": 19
        }
      ]
    },
    {
      "cell_type": "code",
      "metadata": {
        "id": "WLnpq3xIOKMP",
        "colab": {
          "base_uri": "https://localhost:8080/",
          "height": 337
        },
        "outputId": "64c04ddf-7e89-4463-b6ba-e4ae63be9615"
      },
      "source": [
        "variables= ['frec_observada', 'frec_esperada']\n",
        "fig, ax = plt.subplots(1,2, figsize=(12, 5))\n",
        "for var, subplot in zip(variables, ax.flatten()):\n",
        "  sns.barplot(x='hijos_h', y=var, data = datos, ax= subplot)\n",
        "plt.show()"
      ],
      "execution_count": null,
      "outputs": [
        {
          "output_type": "display_data",
          "data": {
            "image/png": "[encoded data removed]",
            "text/plain": [
              "<Figure size 864x360 with 2 Axes>"
            ]
          },
          "metadata": {
            "tags": [],
            "needs_background": "light"
          }
        }
      ]
    },
    {
      "cell_type": "code",
      "metadata": {
        "id": "Yi6z7HLSdE_k",
        "colab": {
          "base_uri": "https://localhost:8080/"
        },
        "outputId": "4fd5daba-f3e9-499b-c926-379f6c965c3a"
      },
      "source": [
        "test_chi_cuadrada(datos['frec_observada'], datos['frec_esperada'])"
      ],
      "execution_count": null,
      "outputs": [
        {
          "output_type": "stream",
          "text": [
            "\n",
            "Test Chi-squared  estdístico = 690.731\n",
            "Valor crítico P-value para 0.05 de significancia is 21.03.\n"
          ],
          "name": "stdout"
        },
        {
          "output_type": "execute_result",
          "data": {
            "text/plain": [
              "False"
            ]
          },
          "metadata": {
            "tags": []
          },
          "execution_count": 44
        }
      ]
    },
    {
      "cell_type": "code",
      "metadata": {
        "id": "r6cSNN0IZI-k",
        "colab": {
          "base_uri": "https://localhost:8080/"
        },
        "outputId": "4789cfaa-5e39-4002-aac3-4b221aedc8a7"
      },
      "source": [
        "stats.chisquare(datos['frec_observada'], datos['frec_esperada'], ddof=12 )"
      ],
      "execution_count": null,
      "outputs": [
        {
          "output_type": "execute_result",
          "data": {
            "text/plain": [
              "Power_divergenceResult(statistic=690.7313910429208, pvalue=nan)"
            ]
          },
          "metadata": {
            "tags": []
          },
          "execution_count": 22
        }
      ]
    },
    {
      "cell_type": "markdown",
      "metadata": {
        "id": "_yX2vojB9N8W"
      },
      "source": [
        "# Recursos\n",
        "\n",
        "* https://seeing-theory.brown.edu/frequentist-inference/index.html\n",
        "\n",
        "* https://rpsychologist.com/d3/ci/"
      ]
    }
  ]
}