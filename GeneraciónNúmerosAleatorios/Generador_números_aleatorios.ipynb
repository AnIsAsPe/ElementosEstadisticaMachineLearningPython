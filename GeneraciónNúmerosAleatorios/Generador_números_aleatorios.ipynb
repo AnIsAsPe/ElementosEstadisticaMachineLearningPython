{
  "nbformat": 4,
  "nbformat_minor": 0,
  "metadata": {
    "colab": {
      "name": "Generador números aleatorios.ipynb",
      "provenance": [],
      "toc_visible": true,
      "authorship_tag": "ABX9TyMXEU9U17hM82gBO600FKQP",
      "include_colab_link": true
    },
    "kernelspec": {
      "name": "python3",
      "display_name": "Python 3"
    }
  },
  "cells": [
    {
      "cell_type": "markdown",
      "metadata": {
        "id": "view-in-github",
        "colab_type": "text"
      },
      "source": [
        "<a href=\"https://colab.research.google.com/github/AnIsAsPe/ElementosEstadisticaMachineLearningPython/blob/master/Generaci%C3%B3nN%C3%BAmerosAleatorios/Generador_n%C3%BAmeros_aleatorios.ipynb\" target=\"_parent\"><img src=\"https://colab.research.google.com/assets/colab-badge.svg\" alt=\"Open In Colab\"/></a>"
      ]
    },
    {
      "cell_type": "markdown",
      "metadata": {
        "id": "EuwhqWjpFpjM"
      },
      "source": [
        "# Generador de (pseudo) números aleatorios mediante el algoritmo de congruencia lineal (GCL) y transformación Box-Muller\n",
        "\n",
        "\n",
        "\n"
      ]
    },
    {
      "cell_type": "code",
      "metadata": {
        "id": "yATtWg4_kBuC"
      },
      "source": [
        "import numpy as np\n",
        "from numpy import sqrt, log, sin, cos, pi\n",
        "\n",
        "import seaborn as sns\n",
        "import matplotlib.pyplot as plt"
      ],
      "execution_count": null,
      "outputs": []
    },
    {
      "cell_type": "markdown",
      "metadata": {
        "id": "F2Fr_VtV75W7"
      },
      "source": [
        "## 1. Generador Congruencia Lineal\n",
        "\n",
        "$X_{n+1} = (aX_n + b)\\bmod c$\n",
        "\n",
        "donde $ a $ (el multiplicador),  $ b $  (el incremento) y $ c $  (módulo) son parámetros enteros del generador fijados de antemano."
      ]
    },
    {
      "cell_type": "code",
      "metadata": {
        "id": "_baN8Pe5YlH3"
      },
      "source": [
        "def genera_aleatorios(a=1, b=7, m=10):\n",
        "    ''' Genera números aleatorios mediante el algoritmo de congruencia lineal\n",
        "    a, es el multiplicador\n",
        "    b, es el incremento\n",
        "    c, es el módulo\n",
        "    '''\n",
        "    genera_aleatorios.X = (a*genera_aleatorios.X + b) % m\n",
        "    return genera_aleatorios.X"
      ],
      "execution_count": null,
      "outputs": []
    },
    {
      "cell_type": "code",
      "source": [],
      "metadata": {
        "id": "GwPaCse13Dbh"
      },
      "execution_count": null,
      "outputs": []
    },
    {
      "cell_type": "markdown",
      "metadata": {
        "id": "ECSf8ApvZ_1m"
      },
      "source": [
        "###¿Cuántos números se generan antes de que se repita la secuencia?\n",
        "###¿Cada numero de la serie generada es independiente de los otros?\n",
        "¿qué relación tiene con el valor de los parámetros a, b y m?"
      ]
    },
    {
      "cell_type": "code",
      "metadata": {
        "id": "CsUxXIRgZasz",
        "colab": {
          "base_uri": "https://localhost:8080/"
        },
        "outputId": "4e75f22f-38a5-4c6d-8c25-53cb20951e31"
      },
      "source": [
        "genera_aleatorios.X = 4\n",
        "\n",
        "n = 20\n",
        "datos = [genera_aleatorios() for i in range(n)]\n",
        "datos"
      ],
      "execution_count": null,
      "outputs": [
        {
          "output_type": "execute_result",
          "data": {
            "text/plain": [
              "[1, 8, 5, 2, 9, 6, 3, 0, 7, 4, 1, 8, 5, 2, 9, 6, 3, 0, 7, 4]"
            ]
          },
          "metadata": {},
          "execution_count": 5
        }
      ]
    },
    {
      "cell_type": "markdown",
      "metadata": {
        "id": "xATB4LgDac-O"
      },
      "source": [
        "No es trivial la elección de parámetros.\n",
        "\n",
        "Se deben asegurar ciclos muy largos y que no existan autocorrelación en los datos.\n",
        "\n",
        "La longitud de un ciclo tiene como tope m, pero puede ser menor en base a la eleccion de a y b"
      ]
    },
    {
      "cell_type": "code",
      "metadata": {
        "id": "TUMkuoEoWopl"
      },
      "source": [
        "def genera_aleatorios(a =  1103515245, b = 12345,\n",
        "                      m = (2**32)):\n",
        "  ''' Genera números aleatorios mediante el algoritmo de congruencia lineal\n",
        "  a, es el multiplicador\n",
        "  b, es el incremento\n",
        "  c, es el módulo\n",
        "\n",
        "  Por defecto a, b y c se han elegido de manera que satisfacen el Teorema\n",
        "  Hull-Dobell, según el cual este algoritmo tendra un periodo completo,\n",
        "  igual a m, para cualquier semillas elegida, si y solo si:\n",
        "  b y m son primos relativos\n",
        "  a-1 es divisible por todos los factores primos de m\n",
        "  a-1 es multiplo de 4 si m es multiplo de 4\n",
        "  '''\n",
        "  genera_aleatorios.X = (a*genera_aleatorios.X + b) % m\n",
        "\n",
        "  return genera_aleatorios.X / m\n",
        "\n"
      ],
      "execution_count": null,
      "outputs": []
    },
    {
      "cell_type": "code",
      "metadata": {
        "id": "BimHSJN1UqIH",
        "colab": {
          "base_uri": "https://localhost:8080/",
          "height": 326
        },
        "outputId": "6def78a9-b63f-43d1-b683-44db43fa2773"
      },
      "source": [
        "\n",
        "genera_aleatorios.X = 8       # cualquier número entero mayor que 0\n",
        "                              # (podría un número décimal como .5)\n",
        "\n",
        "n = 100000\n",
        "var = [genera_aleatorios() for i in range(n)]\n",
        "\n",
        "gr1 = sns.displot(var, bins=100, kde=True, color='blue', height=3, aspect=1.5 )\n",
        "\n",
        "gr1.set(xlabel='Distribución Uniforme', ylabel='Frecuencia')\n",
        "plt.show()"
      ],
      "execution_count": null,
      "outputs": [
        {
          "output_type": "display_data",
          "data": {
            "text/plain": [
              "<Figure size 450x300 with 1 Axes>"
            ],
            "image/png": "[encoded data removed]"
          },
          "metadata": {}
        }
      ]
    },
    {
      "cell_type": "markdown",
      "metadata": {
        "id": "BSgHnlLujImH"
      },
      "source": [
        "## 2. Transformación Box - Muller\n",
        "\n",
        "\n",
        "$$x = r\\cos(\\theta) =  \\sqrt{-2ln(x_1)}\\cos(2\\pi x_2)$$\n",
        "\n",
        "\n",
        "$$y =  r\\sin(\\theta) =\\sqrt{-2ln(x_1)}\\sin(2\\pi x_2)$$\n",
        "\n",
        "\n",
        "<p align=\"center\">\n",
        "<img  src=\"https://drive.google.com/uc?id=1tRw4zOMpKqMOWQpF1sAFCeG8WlHGH7vQ\" width=\"200\" >\n",
        "</p>"
      ]
    },
    {
      "cell_type": "code",
      "metadata": {
        "id": "zzxYTUgz5jD-"
      },
      "source": [
        "def transformacion_gaussiana(u1,u2):\n",
        "  ''' Función para transformar dos variables independientes\n",
        "   con valores entre 0 y 1 con distribución uniforme, a dos variables\n",
        "   independientes con distribución gaussiana, utilizando la transformación\n",
        "   Box-Muller'''\n",
        "\n",
        "  r = sqrt(-2*log(u1))\n",
        "  theta = 2*pi*u2\n",
        "\n",
        "  x = r * cos(theta)\n",
        "  y = r * sin(theta)\n",
        "\n",
        "  return x, y"
      ],
      "execution_count": null,
      "outputs": []
    },
    {
      "cell_type": "code",
      "metadata": {
        "id": "9kNGYo_Dk5RK",
        "colab": {
          "base_uri": "https://localhost:8080/",
          "height": 462
        },
        "outputId": "fcdfe892-ad93-45a1-e91c-8ebf75b17339"
      },
      "source": [
        "n = 1000\n",
        "\n",
        "var_u1 = np.array([genera_aleatorios() for i in range(n)])\n",
        "var_u2 = np.array([genera_aleatorios() for i in range(n)])\n",
        "\n",
        "\n",
        "x, y = transformacion_gaussiana(var_u1, var_u2)\n",
        "\n",
        "print('La media de x es {0:.2f},'\\\n",
        "      ' y la desviación estándar es: {1:.2f}'.format(x.mean(), x.std()))\n",
        "print('La media de y es {0:.2f},'\\\n",
        "      ' y la desviación estándar es: {1:.2f}'.format(y.mean(), y.std()))\n",
        "\n",
        "\n",
        "sns.jointplot(x=x, y=y, kind='scatter', color='darkcyan', s=2, height=4)\n",
        "plt.show()"
      ],
      "execution_count": null,
      "outputs": [
        {
          "output_type": "stream",
          "name": "stdout",
          "text": [
            "La media de x es 0.02, y la desviación estándar es: 1.00\n",
            "La media de y es -0.04, y la desviación estándar es: 1.01\n"
          ]
        },
        {
          "output_type": "display_data",
          "data": {
            "text/plain": [
              "<Figure size 400x400 with 3 Axes>"
            ],
            "image/png": "[encoded data removed]"
          },
          "metadata": {}
        }
      ]
    }
  ]
}